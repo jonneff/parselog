{
 "cells": [
  {
   "cell_type": "code",
   "execution_count": 1,
   "metadata": {
    "collapsed": true
   },
   "outputs": [],
   "source": [
    "from ipwhois import IPWhois\n",
    "from pprint import pprint"
   ]
  },
  {
   "cell_type": "code",
   "execution_count": 2,
   "metadata": {
    "collapsed": false,
    "scrolled": true
   },
   "outputs": [
    {
     "name": "stdout",
     "output_type": "stream",
     "text": [
      "{'asn': '7922',\n",
      " 'asn_cidr': '198.0.0.0/16',\n",
      " 'asn_country_code': 'US',\n",
      " 'asn_date': '2013-07-31',\n",
      " 'asn_registry': 'arin',\n",
      " 'nets': [{'abuse_emails': 'abuse@comcast.net',\n",
      "           'address': '1800 Bishops Gate Blvd.',\n",
      "           'cidr': '198.0.0.0/16',\n",
      "           'city': 'Mount Laurel',\n",
      "           'country': 'US',\n",
      "           'created': '2013-07-31T00:00:00',\n",
      "           'description': 'Comcast Business Communications, LLC',\n",
      "           'handle': 'NET-198-0-0-0-1',\n",
      "           'misc_emails': None,\n",
      "           'name': 'CBC-CM-4',\n",
      "           'postal_code': '08054-4628',\n",
      "           'range': '198.0.0.0 - 198.0.255.255',\n",
      "           'state': 'NJ',\n",
      "           'tech_emails': 'CNIPEO-Ip-registration@cable.comcast.com',\n",
      "           'updated': '2013-07-31T00:00:00'},\n",
      "          {'abuse_emails': 'abuse@comcast.net',\n",
      "           'address': '1800 Bishops Gate Blvd.',\n",
      "           'cidr': '198.0.192.0/19',\n",
      "           'city': 'Mount Laurel',\n",
      "           'country': 'US',\n",
      "           'created': '2013-09-23T00:00:00',\n",
      "           'description': 'Comcast Business Communications, LLC',\n",
      "           'handle': 'NET-198-0-192-0-1',\n",
      "           'misc_emails': None,\n",
      "           'name': 'CBC-SFBA-23',\n",
      "           'postal_code': '08054-4628',\n",
      "           'range': '198.0.200.104 - 198.0.200.111',\n",
      "           'state': 'NJ',\n",
      "           'tech_emails': 'CNIPEO-Ip-registration@cable.comcast.com',\n",
      "           'updated': '2013-09-23T00:00:00'},\n",
      "          {'abuse_emails': 'abuse@comcast.net',\n",
      "           'address': '111 W EVELYN AVE',\n",
      "           'cidr': '198.0.200.104/29',\n",
      "           'city': 'SUNNYVALE',\n",
      "           'country': 'US',\n",
      "           'created': '2013-10-12T00:00:00',\n",
      "           'description': 'SILICON VALLEY DATA SCIENC',\n",
      "           'handle': 'NET-198-0-200-104-1',\n",
      "           'misc_emails': None,\n",
      "           'name': 'SILICONVALLEYDATASCIENC',\n",
      "           'postal_code': '94086',\n",
      "           'range': None,\n",
      "           'state': 'CA',\n",
      "           'tech_emails': 'CNIPEO-Ip-registration@cable.comcast.com',\n",
      "           'updated': '2013-12-11T00:00:00'}],\n",
      " 'query': '198.0.200.105',\n",
      " 'raw': None,\n",
      " 'raw_referral': None,\n",
      " 'referral': None}\n"
     ]
    }
   ],
   "source": [
    "obj = IPWhois('198.0.200.105')\n",
    "results = obj.lookup(get_referral=True)\n",
    "pprint(results)"
   ]
  },
  {
   "cell_type": "code",
   "execution_count": 3,
   "metadata": {
    "collapsed": false
   },
   "outputs": [
    {
     "name": "stdout",
     "output_type": "stream",
     "text": [
      "(37.8858, -122.118)\n"
     ]
    }
   ],
   "source": [
    "from geoip import geolite2\n",
    "match = geolite2.lookup('198.0.200.105')\n",
    "print match.location"
   ]
  },
  {
   "cell_type": "code",
   "execution_count": 4,
   "metadata": {
    "collapsed": false
   },
   "outputs": [
    {
     "data": {
      "text/plain": [
       "37.8858"
      ]
     },
     "execution_count": 4,
     "metadata": {},
     "output_type": "execute_result"
    }
   ],
   "source": [
    "match.location[0]"
   ]
  },
  {
   "cell_type": "code",
   "execution_count": 5,
   "metadata": {
    "collapsed": false
   },
   "outputs": [
    {
     "name": "stdout",
     "output_type": "stream",
     "text": [
      "(37.419200000000004, -122.0574)\n"
     ]
    }
   ],
   "source": [
    "match2 = geolite2.lookup('74.125.225.229')\n",
    "print match2.location"
   ]
  },
  {
   "cell_type": "code",
   "execution_count": 14,
   "metadata": {
    "collapsed": false
   },
   "outputs": [
    {
     "name": "stdout",
     "output_type": "stream",
     "text": [
      "<type 'NoneType'>\n"
     ]
    }
   ],
   "source": [
    "match3 = geolite2.lookup('0.0.0.0')\n",
    "print type(match3)"
   ]
  },
  {
   "cell_type": "code",
   "execution_count": 20,
   "metadata": {
    "collapsed": false
   },
   "outputs": [
    {
     "ename": "IPDefinedError",
     "evalue": "IPv4 address '0.0.0.0' is already defined as 'This Network' via 'RFC 1122, Section 3.2.1.3'.",
     "output_type": "error",
     "traceback": [
      "\u001b[0;31m---------------------------------------------------------------------------\u001b[0m",
      "\u001b[0;31mIPDefinedError\u001b[0m                            Traceback (most recent call last)",
      "\u001b[0;32m<ipython-input-20-136682d189b9>\u001b[0m in \u001b[0;36m<module>\u001b[0;34m()\u001b[0m\n\u001b[1;32m      1\u001b[0m \u001b[0;31m# badobj = IPWhois('1.1.1.1')\u001b[0m\u001b[0;34m\u001b[0m\u001b[0;34m\u001b[0m\u001b[0m\n\u001b[0;32m----> 2\u001b[0;31m \u001b[0mbadobj\u001b[0m \u001b[0;34m=\u001b[0m \u001b[0mIPWhois\u001b[0m\u001b[0;34m(\u001b[0m\u001b[0;34m'0.0.0.0'\u001b[0m\u001b[0;34m)\u001b[0m\u001b[0;34m\u001b[0m\u001b[0m\n\u001b[0m\u001b[1;32m      3\u001b[0m \u001b[0mbadresults\u001b[0m \u001b[0;34m=\u001b[0m \u001b[0mbadobj\u001b[0m\u001b[0;34m.\u001b[0m\u001b[0mlookup\u001b[0m\u001b[0;34m(\u001b[0m\u001b[0mget_referral\u001b[0m\u001b[0;34m=\u001b[0m\u001b[0mTrue\u001b[0m\u001b[0;34m)\u001b[0m\u001b[0;34m\u001b[0m\u001b[0m\n\u001b[1;32m      4\u001b[0m \u001b[0mpprint\u001b[0m\u001b[0;34m(\u001b[0m\u001b[0mbadresults\u001b[0m\u001b[0;34m)\u001b[0m\u001b[0;34m\u001b[0m\u001b[0m\n",
      "\u001b[0;32m/Users/jonneff/anaconda/lib/python2.7/site-packages/ipwhois/ipwhois.pyc\u001b[0m in \u001b[0;36m__init__\u001b[0;34m(self, address, timeout, proxy_opener)\u001b[0m\n\u001b[1;32m    373\u001b[0m                     \u001b[0;34m'IPv4 address %r is already defined as %r via '\u001b[0m\u001b[0;34m\u001b[0m\u001b[0m\n\u001b[1;32m    374\u001b[0m                     '%r.' % (\n\u001b[0;32m--> 375\u001b[0;31m                         \u001b[0mself\u001b[0m\u001b[0;34m.\u001b[0m\u001b[0maddress_str\u001b[0m\u001b[0;34m,\u001b[0m \u001b[0mis_defined\u001b[0m\u001b[0;34m[\u001b[0m\u001b[0;36m1\u001b[0m\u001b[0;34m]\u001b[0m\u001b[0;34m,\u001b[0m \u001b[0mis_defined\u001b[0m\u001b[0;34m[\u001b[0m\u001b[0;36m2\u001b[0m\u001b[0;34m]\u001b[0m\u001b[0;34m\u001b[0m\u001b[0m\n\u001b[0m\u001b[1;32m    376\u001b[0m                     )\n\u001b[1;32m    377\u001b[0m                 )\n",
      "\u001b[0;31mIPDefinedError\u001b[0m: IPv4 address '0.0.0.0' is already defined as 'This Network' via 'RFC 1122, Section 3.2.1.3'."
     ]
    }
   ],
   "source": [
    "# badobj = IPWhois('1.1.1.1')\n",
    "badobj = IPWhois('0.0.0.0')\n",
    "badresults = badobj.lookup(get_referral=True)\n",
    "pprint(badresults)"
   ]
  },
  {
   "cell_type": "code",
   "execution_count": 6,
   "metadata": {
    "collapsed": false
   },
   "outputs": [
    {
     "name": "stdout",
     "output_type": "stream",
     "text": [
      "'111 W EVELYN AVE SUNNYVALE CA 94086'\n"
     ]
    },
    {
     "ename": "AttributeError",
     "evalue": "'NoneType' object has no attribute 'address'",
     "output_type": "error",
     "traceback": [
      "\u001b[0;31m---------------------------------------------------------------------------\u001b[0m",
      "\u001b[0;31mAttributeError\u001b[0m                            Traceback (most recent call last)",
      "\u001b[0;32m<ipython-input-6-8376c35df40b>\u001b[0m in \u001b[0;36m<module>\u001b[0;34m()\u001b[0m\n\u001b[1;32m      5\u001b[0m \u001b[0mlocation\u001b[0m \u001b[0;34m=\u001b[0m \u001b[0mgeolocator\u001b[0m\u001b[0;34m.\u001b[0m\u001b[0mgeocode\u001b[0m\u001b[0;34m(\u001b[0m\u001b[0maddress\u001b[0m\u001b[0;34m)\u001b[0m\u001b[0;34m\u001b[0m\u001b[0m\n\u001b[1;32m      6\u001b[0m \u001b[0;31m# pprint(location.latitude, location.longitude)\u001b[0m\u001b[0;34m\u001b[0m\u001b[0;34m\u001b[0m\u001b[0m\n\u001b[0;32m----> 7\u001b[0;31m \u001b[0;32mprint\u001b[0m \u001b[0mlocation\u001b[0m\u001b[0;34m.\u001b[0m\u001b[0maddress\u001b[0m\u001b[0;34m\u001b[0m\u001b[0m\n\u001b[0m",
      "\u001b[0;31mAttributeError\u001b[0m: 'NoneType' object has no attribute 'address'"
     ]
    }
   ],
   "source": [
    "from geopy.geocoders import Nominatim\n",
    "geolocator = Nominatim()\n",
    "address = results['nets'][-1]['address'] +' '+results['nets'][-1]['city']+' '+results['nets'][-1]['state']+' '+results['nets'][-1]['postal_code']\n",
    "pprint(address)\n",
    "location = geolocator.geocode(address)\n",
    "# pprint(location.latitude, location.longitude)\n",
    "print location.address"
   ]
  },
  {
   "cell_type": "code",
   "execution_count": 7,
   "metadata": {
    "collapsed": false
   },
   "outputs": [
    {
     "name": "stdout",
     "output_type": "stream",
     "text": [
      "Flatiron Building, 175, 5th Avenue, Flatiron, New York County, NYC, New York, 10010, United States of America\n"
     ]
    }
   ],
   "source": [
    "location = geolocator.geocode(\"175 5th Avenue NYC\")\n",
    "print location.address"
   ]
  },
  {
   "cell_type": "code",
   "execution_count": 8,
   "metadata": {
    "collapsed": false
   },
   "outputs": [
    {
     "data": {
      "text/plain": [
       "'SILICON VALLEY DATA SCIENC'"
      ]
     },
     "execution_count": 8,
     "metadata": {},
     "output_type": "execute_result"
    }
   ],
   "source": [
    "results['nets'][-1]['description']"
   ]
  },
  {
   "cell_type": "code",
   "execution_count": 9,
   "metadata": {
    "collapsed": false
   },
   "outputs": [
    {
     "data": {
      "text/plain": [
       "'Comcast Business Communications, LLC'"
      ]
     },
     "execution_count": 9,
     "metadata": {},
     "output_type": "execute_result"
    }
   ],
   "source": [
    "results['nets'][0]['description']"
   ]
  },
  {
   "cell_type": "code",
   "execution_count": 10,
   "metadata": {
    "collapsed": false
   },
   "outputs": [
    {
     "name": "stdout",
     "output_type": "stream",
     "text": [
      "{'asn': '15169',\n",
      " 'asn_cidr': '74.125.225.0/24',\n",
      " 'asn_country_code': 'US',\n",
      " 'asn_date': '2007-03-13',\n",
      " 'asn_registry': 'arin',\n",
      " 'nets': [{'abuse_emails': 'arin-contact@google.com',\n",
      "           'address': '1600 Amphitheatre Parkway',\n",
      "           'cidr': '74.125.0.0/16',\n",
      "           'city': 'Mountain View',\n",
      "           'country': 'US',\n",
      "           'created': '2007-03-13T00:00:00',\n",
      "           'description': 'Google Inc.',\n",
      "           'handle': 'NET-74-125-0-0-1',\n",
      "           'misc_emails': None,\n",
      "           'name': 'GOOGLE',\n",
      "           'postal_code': '94043',\n",
      "           'range': '74.125.0.0 - 74.125.255.255',\n",
      "           'state': 'CA',\n",
      "           'tech_emails': 'arin-contact@google.com',\n",
      "           'updated': '2012-02-24T00:00:00'}],\n",
      " 'query': '74.125.225.229',\n",
      " 'raw': None,\n",
      " 'raw_referral': None,\n",
      " 'referral': None}\n"
     ]
    }
   ],
   "source": [
    "newobj = IPWhois('74.125.225.229')\n",
    "newresults = newobj.lookup()\n",
    "pprint(newresults)"
   ]
  },
  {
   "cell_type": "code",
   "execution_count": null,
   "metadata": {
    "collapsed": true
   },
   "outputs": [],
   "source": []
  },
  {
   "cell_type": "code",
   "execution_count": 11,
   "metadata": {
    "collapsed": false
   },
   "outputs": [
    {
     "data": {
      "text/plain": [
       "'Google Inc.'"
      ]
     },
     "execution_count": 11,
     "metadata": {},
     "output_type": "execute_result"
    }
   ],
   "source": [
    "newresults['nets'][-1]['description']"
   ]
  },
  {
   "cell_type": "code",
   "execution_count": 12,
   "metadata": {
    "collapsed": false
   },
   "outputs": [
    {
     "data": {
      "text/plain": [
       "'Google Inc.'"
      ]
     },
     "execution_count": 12,
     "metadata": {},
     "output_type": "execute_result"
    }
   ],
   "source": [
    "newresults['nets'][0]['description']"
   ]
  },
  {
   "cell_type": "code",
   "execution_count": 22,
   "metadata": {
    "collapsed": false
   },
   "outputs": [
    {
     "data": {
      "text/plain": [
       "1389721010"
      ]
     },
     "execution_count": 22,
     "metadata": {},
     "output_type": "execute_result"
    }
   ],
   "source": [
    "timestamp = \"14/Jan/2014:09:36:50 -0800\"\n",
    "# timestamp = \"30/Aug/2015:05:13:53 +0200\"\n",
    "from dateutil import parser\n",
    "# Convert timestamp string to aware datetime object\n",
    "d = parser.parse(timestamp.replace(':', ' ', 1))\n",
    "# Convert an aware datetime object to \"seconds since the Epoch\"\n",
    "from datetime import datetime\n",
    "from dateutil import tz\n",
    "td = d - datetime(1970, 1, 1, tzinfo=tz.tzutc())\n",
    "td.seconds + td.days * 86400"
   ]
  },
  {
   "cell_type": "code",
   "execution_count": null,
   "metadata": {
    "collapsed": true
   },
   "outputs": [],
   "source": []
  }
 ],
 "metadata": {
  "kernelspec": {
   "display_name": "Python 2",
   "language": "python",
   "name": "python2"
  },
  "language_info": {
   "codemirror_mode": {
    "name": "ipython",
    "version": 2
   },
   "file_extension": ".py",
   "mimetype": "text/x-python",
   "name": "python",
   "nbconvert_exporter": "python",
   "pygments_lexer": "ipython2",
   "version": "2.7.10"
  }
 },
 "nbformat": 4,
 "nbformat_minor": 0
}
