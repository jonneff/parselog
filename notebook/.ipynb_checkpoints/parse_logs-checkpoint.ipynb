{
 "cells": [
  {
   "cell_type": "code",
   "execution_count": 1,
   "metadata": {
    "collapsed": true
   },
   "outputs": [],
   "source": [
    "from ipwhois import IPWhois\n",
    "from pprint import pprint"
   ]
  },
  {
   "cell_type": "code",
   "execution_count": 2,
   "metadata": {
    "collapsed": false,
    "scrolled": true
   },
   "outputs": [
    {
     "name": "stdout",
     "output_type": "stream",
     "text": [
      "{'asn': '7922',\n",
      " 'asn_cidr': '198.0.0.0/16',\n",
      " 'asn_country_code': 'US',\n",
      " 'asn_date': '2013-07-31',\n",
      " 'asn_registry': 'arin',\n",
      " 'nets': [{'abuse_emails': 'abuse@comcast.net',\n",
      "           'address': '1800 Bishops Gate Blvd.',\n",
      "           'cidr': '198.0.0.0/16',\n",
      "           'city': 'Mount Laurel',\n",
      "           'country': 'US',\n",
      "           'created': '2013-07-31T00:00:00',\n",
      "           'description': 'Comcast Business Communications, LLC',\n",
      "           'handle': 'NET-198-0-0-0-1',\n",
      "           'misc_emails': None,\n",
      "           'name': 'CBC-CM-4',\n",
      "           'postal_code': '08054-4628',\n",
      "           'range': '198.0.0.0 - 198.0.255.255',\n",
      "           'state': 'NJ',\n",
      "           'tech_emails': 'CNIPEO-Ip-registration@cable.comcast.com',\n",
      "           'updated': '2013-07-31T00:00:00'},\n",
      "          {'abuse_emails': 'abuse@comcast.net',\n",
      "           'address': '1800 Bishops Gate Blvd.',\n",
      "           'cidr': '198.0.192.0/19',\n",
      "           'city': 'Mount Laurel',\n",
      "           'country': 'US',\n",
      "           'created': '2013-09-23T00:00:00',\n",
      "           'description': 'Comcast Business Communications, LLC',\n",
      "           'handle': 'NET-198-0-192-0-1',\n",
      "           'misc_emails': None,\n",
      "           'name': 'CBC-SFBA-23',\n",
      "           'postal_code': '08054-4628',\n",
      "           'range': '198.0.200.104 - 198.0.200.111',\n",
      "           'state': 'NJ',\n",
      "           'tech_emails': 'CNIPEO-Ip-registration@cable.comcast.com',\n",
      "           'updated': '2013-09-23T00:00:00'},\n",
      "          {'abuse_emails': 'abuse@comcast.net',\n",
      "           'address': '111 W EVELYN AVE',\n",
      "           'cidr': '198.0.200.104/29',\n",
      "           'city': 'SUNNYVALE',\n",
      "           'country': 'US',\n",
      "           'created': '2013-10-12T00:00:00',\n",
      "           'description': 'SILICON VALLEY DATA SCIENC',\n",
      "           'handle': 'NET-198-0-200-104-1',\n",
      "           'misc_emails': None,\n",
      "           'name': 'SILICONVALLEYDATASCIENC',\n",
      "           'postal_code': '94086',\n",
      "           'range': None,\n",
      "           'state': 'CA',\n",
      "           'tech_emails': 'CNIPEO-Ip-registration@cable.comcast.com',\n",
      "           'updated': '2013-12-11T00:00:00'}],\n",
      " 'query': '198.0.200.105',\n",
      " 'raw': None,\n",
      " 'raw_referral': None,\n",
      " 'referral': None}\n"
     ]
    }
   ],
   "source": [
    "obj = IPWhois('198.0.200.105')\n",
    "results = obj.lookup(get_referral=True)\n",
    "pprint(results)"
   ]
  },
  {
   "cell_type": "code",
   "execution_count": 3,
   "metadata": {
    "collapsed": false
   },
   "outputs": [
    {
     "name": "stdout",
     "output_type": "stream",
     "text": [
      "(37.8858, -122.118)\n"
     ]
    }
   ],
   "source": [
    "from geoip import geolite2\n",
    "match = geolite2.lookup('198.0.200.105')\n",
    "print match.location"
   ]
  },
  {
   "cell_type": "code",
   "execution_count": 4,
   "metadata": {
    "collapsed": false
   },
   "outputs": [
    {
     "data": {
      "text/plain": [
       "37.8858"
      ]
     },
     "execution_count": 4,
     "metadata": {},
     "output_type": "execute_result"
    }
   ],
   "source": [
    "match.location[0]"
   ]
  },
  {
   "cell_type": "code",
   "execution_count": 5,
   "metadata": {
    "collapsed": false
   },
   "outputs": [
    {
     "name": "stdout",
     "output_type": "stream",
     "text": [
      "(37.419200000000004, -122.0574)\n"
     ]
    }
   ],
   "source": [
    "match2 = geolite2.lookup('74.125.225.229')\n",
    "print match2.location"
   ]
  },
  {
   "cell_type": "code",
   "execution_count": null,
   "metadata": {
    "collapsed": true
   },
   "outputs": [],
   "source": []
  },
  {
   "cell_type": "code",
   "execution_count": 6,
   "metadata": {
    "collapsed": false
   },
   "outputs": [
    {
     "name": "stdout",
     "output_type": "stream",
     "text": [
      "'111 W EVELYN AVE SUNNYVALE CA 94086'\n"
     ]
    },
    {
     "ename": "AttributeError",
     "evalue": "'NoneType' object has no attribute 'address'",
     "output_type": "error",
     "traceback": [
      "\u001b[0;31m---------------------------------------------------------------------------\u001b[0m",
      "\u001b[0;31mAttributeError\u001b[0m                            Traceback (most recent call last)",
      "\u001b[0;32m<ipython-input-6-8376c35df40b>\u001b[0m in \u001b[0;36m<module>\u001b[0;34m()\u001b[0m\n\u001b[1;32m      5\u001b[0m \u001b[0mlocation\u001b[0m \u001b[0;34m=\u001b[0m \u001b[0mgeolocator\u001b[0m\u001b[0;34m.\u001b[0m\u001b[0mgeocode\u001b[0m\u001b[0;34m(\u001b[0m\u001b[0maddress\u001b[0m\u001b[0;34m)\u001b[0m\u001b[0;34m\u001b[0m\u001b[0m\n\u001b[1;32m      6\u001b[0m \u001b[0;31m# pprint(location.latitude, location.longitude)\u001b[0m\u001b[0;34m\u001b[0m\u001b[0;34m\u001b[0m\u001b[0m\n\u001b[0;32m----> 7\u001b[0;31m \u001b[0;32mprint\u001b[0m \u001b[0mlocation\u001b[0m\u001b[0;34m.\u001b[0m\u001b[0maddress\u001b[0m\u001b[0;34m\u001b[0m\u001b[0m\n\u001b[0m",
      "\u001b[0;31mAttributeError\u001b[0m: 'NoneType' object has no attribute 'address'"
     ]
    }
   ],
   "source": [
    "from geopy.geocoders import Nominatim\n",
    "geolocator = Nominatim()\n",
    "address = results['nets'][-1]['address'] +' '+results['nets'][-1]['city']+' '+results['nets'][-1]['state']+' '+results['nets'][-1]['postal_code']\n",
    "pprint(address)\n",
    "location = geolocator.geocode(address)\n",
    "# pprint(location.latitude, location.longitude)\n",
    "print location.address"
   ]
  },
  {
   "cell_type": "code",
   "execution_count": 7,
   "metadata": {
    "collapsed": false
   },
   "outputs": [
    {
     "name": "stdout",
     "output_type": "stream",
     "text": [
      "Flatiron Building, 175, 5th Avenue, Flatiron, New York County, NYC, New York, 10010, United States of America\n"
     ]
    }
   ],
   "source": [
    "location = geolocator.geocode(\"175 5th Avenue NYC\")\n",
    "print location.address"
   ]
  },
  {
   "cell_type": "code",
   "execution_count": 8,
   "metadata": {
    "collapsed": false
   },
   "outputs": [
    {
     "data": {
      "text/plain": [
       "'SILICON VALLEY DATA SCIENC'"
      ]
     },
     "execution_count": 8,
     "metadata": {},
     "output_type": "execute_result"
    }
   ],
   "source": [
    "results['nets'][-1]['description']"
   ]
  },
  {
   "cell_type": "code",
   "execution_count": 9,
   "metadata": {
    "collapsed": false
   },
   "outputs": [
    {
     "data": {
      "text/plain": [
       "'Comcast Business Communications, LLC'"
      ]
     },
     "execution_count": 9,
     "metadata": {},
     "output_type": "execute_result"
    }
   ],
   "source": [
    "results['nets'][0]['description']"
   ]
  },
  {
   "cell_type": "code",
   "execution_count": 10,
   "metadata": {
    "collapsed": false
   },
   "outputs": [
    {
     "name": "stdout",
     "output_type": "stream",
     "text": [
      "{'asn': '15169',\n",
      " 'asn_cidr': '74.125.225.0/24',\n",
      " 'asn_country_code': 'US',\n",
      " 'asn_date': '2007-03-13',\n",
      " 'asn_registry': 'arin',\n",
      " 'nets': [{'abuse_emails': 'arin-contact@google.com',\n",
      "           'address': '1600 Amphitheatre Parkway',\n",
      "           'cidr': '74.125.0.0/16',\n",
      "           'city': 'Mountain View',\n",
      "           'country': 'US',\n",
      "           'created': '2007-03-13T00:00:00',\n",
      "           'description': 'Google Inc.',\n",
      "           'handle': 'NET-74-125-0-0-1',\n",
      "           'misc_emails': None,\n",
      "           'name': 'GOOGLE',\n",
      "           'postal_code': '94043',\n",
      "           'range': '74.125.0.0 - 74.125.255.255',\n",
      "           'state': 'CA',\n",
      "           'tech_emails': 'arin-contact@google.com',\n",
      "           'updated': '2012-02-24T00:00:00'}],\n",
      " 'query': '74.125.225.229',\n",
      " 'raw': None,\n",
      " 'raw_referral': None,\n",
      " 'referral': None}\n"
     ]
    }
   ],
   "source": [
    "newobj = IPWhois('74.125.225.229')\n",
    "newresults = newobj.lookup()\n",
    "pprint(newresults)"
   ]
  },
  {
   "cell_type": "code",
   "execution_count": null,
   "metadata": {
    "collapsed": true
   },
   "outputs": [],
   "source": []
  },
  {
   "cell_type": "code",
   "execution_count": 11,
   "metadata": {
    "collapsed": false
   },
   "outputs": [
    {
     "data": {
      "text/plain": [
       "'Google Inc.'"
      ]
     },
     "execution_count": 11,
     "metadata": {},
     "output_type": "execute_result"
    }
   ],
   "source": [
    "newresults['nets'][-1]['description']"
   ]
  },
  {
   "cell_type": "code",
   "execution_count": 12,
   "metadata": {
    "collapsed": false
   },
   "outputs": [
    {
     "data": {
      "text/plain": [
       "'Google Inc.'"
      ]
     },
     "execution_count": 12,
     "metadata": {},
     "output_type": "execute_result"
    }
   ],
   "source": [
    "newresults['nets'][0]['description']"
   ]
  },
  {
   "cell_type": "code",
   "execution_count": null,
   "metadata": {
    "collapsed": true
   },
   "outputs": [],
   "source": [
    "import sys\n",
    "import re\n",
    "from ipwhois import IPWhois\n",
    "from geoip import geolite2\n",
    "\n",
    "class ParseLog(object):\n",
    "\tdef __init__(self, filename): \n",
    "\t\t# open file for reading\n",
    "        self.f = open(filename,'r')\n",
    "        \n",
    "\tdef parse_line(self, line): \n",
    "\t\t\"\"\"\n",
    "        Parse log line to get date & time, uri, referer, ip address\n",
    "        Args:\n",
    "            line (str): a line of text in the Apache Combined Log format\n",
    "        Returns:\n",
    "            tuple: either a dictionary containing the requested parts of the log and 1,\n",
    "               or the original invalid log line and 0\n",
    "        \"\"\"\n",
    "        APACHE_ACCESS_LOG_PATTERN = '^(\\S+) (\\S+) (\\S+) \\[([\\w:/]+\\s[+\\-]\\d{4})\\] \"(\\S+) (\\S+)\\s*(\\S*)\\s*\" (\\d{3}) (\\S+) ([ ^\"]*) ([ ^\"]*)'\n",
    "        \n",
    "        match = re.search(APACHE_ACCESS_LOG_PATTERN, line)\n",
    "        if match is None:\n",
    "            return (line, 0)\n",
    "        datetime = match.group(4)\n",
    "        uri = match.group(6)\n",
    "        referer = match.group(10)\n",
    "        ip = match.group(1)\n",
    "        # call ip_lookup(ip) to get org, lat, lon, and isp\n",
    "        org, isp, lat, lon = self.ip_lookup(ip)\n",
    "        result = \n",
    "        {\n",
    "            'datetime': datetime, \n",
    "            'uri': uri,\n",
    "            'referer': referer,\n",
    "            'ip': ip,\n",
    "            'org': org,\n",
    "            'lat': lat\n",
    "            'lon': lon\n",
    "            'isp': isp\n",
    "        }\n",
    "        return (result, 1)\n",
    "        \n",
    "\tdef ip_lookup(self, ip):\n",
    "\t\t# given ip, look up org, isp, lat and lon\n",
    "        # need some try-catch blocks here for exception handling\n",
    "        obj = IPWhois(ip)\n",
    "        results = obj.lookup(get_referral=True)\n",
    "        org = results['nets'][-1]['description']\n",
    "        isp = results['nets'][0]['description']\n",
    "        match = geolite2.lookup(ip)\n",
    "        lat = match[0]\n",
    "        lon = match[1]\n",
    "        return org, isp, lat, lon   \n",
    "\n",
    "\tdef __del__(self):\n",
    "        # close file in destructor method\n",
    "        # destructors are controversial in Python but while seems awkward in this case\n",
    "        # IMPORTANT:  avoid circular references with other classes when using destructor.\n",
    "        self.f.close()\n",
    "\n",
    "\n",
    "if __name__ = = '__main__': \n",
    "\tparse = ParseLog('test.log') \n",
    "\twhile line = parse.parse_line():\n",
    "    \tprint line"
   ]
  },
  {
   "cell_type": "code",
   "execution_count": null,
   "metadata": {
    "collapsed": true
   },
   "outputs": [],
   "source": [
    "import unittest\n",
    "import json\n",
    "# from app.parselog import ParseLog\n",
    "import ParseLog\n",
    "\n",
    "class TestParseLog(unittest.TestCase): \n",
    "\tdef setUp( self): \n",
    "\t\tself.parse = ParseLog('test.log') \n",
    "\n",
    "\tdef test_parse_line_method_returns_correct_result(self): \n",
    "        actual = self.parse.parse_line()\n",
    "\t\texpected = \n",
    "        {\n",
    "            'datetime': '14/Jan/2014:09:36:50', \n",
    "            'uri': '/svds.com',\n",
    "            'referer': 'http://www.svds.com/rockandroll/',\n",
    "            'ip': '198.0.200.105',\n",
    "            'org': 'SILICON VALLEY DATA SCIENC',\n",
    "            'lat': 37.8858\n",
    "            'lon': -122.118\n",
    "            'isp': 'Comcast Business Communications, LLC'\n",
    "        }  \n",
    "        self.assertDictEqual(expected, actual)"
   ]
  }
 ],
 "metadata": {
  "kernelspec": {
   "display_name": "Python 2",
   "language": "python",
   "name": "python2"
  },
  "language_info": {
   "codemirror_mode": {
    "name": "ipython",
    "version": 2
   },
   "file_extension": ".py",
   "mimetype": "text/x-python",
   "name": "python",
   "nbconvert_exporter": "python",
   "pygments_lexer": "ipython2",
   "version": "2.7.10"
  }
 },
 "nbformat": 4,
 "nbformat_minor": 0
}
